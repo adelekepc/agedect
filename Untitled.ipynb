{
 "cells": [
  {
   "cell_type": "code",
   "execution_count": 1,
   "metadata": {},
   "outputs": [],
   "source": [
    "import cv2"
   ]
  },
  {
   "cell_type": "code",
   "execution_count": 2,
   "metadata": {},
   "outputs": [],
   "source": [
    "def faceBox(faceNet,frame):\n",
    "    frame_height = frame.shape[0]\n",
    "    frame_width = frame.shape[1]\n",
    "    blob = cv2.dnn.blobFromImage(frame, 1.0 , (227,227), [104,117,123], swapRB = False)\n",
    "    faceNet.setInput(blob)\n",
    "    detection = faceNet.forward()\n",
    "    bboxs = []\n",
    "    for i in range(detection.shape[2]):\n",
    "        confidence = detection[0,0,i,2]\n",
    "        if confidence > 0.7:\n",
    "            x1 = int(detection[0,0,i,3]*frame_width)\n",
    "            y1 = int(detection[0,0,i,4]*frame_height)\n",
    "            x2 = int(detection[0,0,i,5]*frame_width)\n",
    "            y2 = int(detection[0,0,i,6]*frame_height)\n",
    "            bboxs.append([x1,y1,x2,y2])\n",
    "            cv2.rectangle(frame, (x1,y1),(x2,y2),(0,255,0), 1)\n",
    "    return frame, bboxs"
   ]
  },
  {
   "cell_type": "code",
   "execution_count": 3,
   "metadata": {},
   "outputs": [],
   "source": [
    "faceProto = 'opencv_face_detector.pbtxt'\n",
    "faceModel = 'opencv_face_detector_uint8.pb'\n",
    "\n",
    "ageProto = 'age_deploy.prototxt'\n",
    "ageModel = 'age_net.caffemodel'\n",
    "\n",
    "genderProto = 'gender_deploy.prototxt'\n",
    "genderModel = 'gender_net.caffemodel'\n"
   ]
  },
  {
   "cell_type": "code",
   "execution_count": 4,
   "metadata": {},
   "outputs": [],
   "source": [
    "faceNet = cv2.dnn.readNet(faceModel,faceProto)\n",
    "ageNet = cv2.dnn.readNet(ageModel,ageProto)\n",
    "genderNet = cv2.dnn.readNet(genderModel,genderProto)"
   ]
  },
  {
   "cell_type": "code",
   "execution_count": 5,
   "metadata": {},
   "outputs": [],
   "source": [
    "age_list = ['(0-2)','(4-6)', '(8-12)', '(15-20)','(25-32)','(38-43)','(48-53)','(60-100)']\n",
    "gender_list = ['Male', 'Female']\n",
    "model_mean_value = (78.4263377603,87.7689143744, 114.895847746)"
   ]
  },
  {
   "cell_type": "code",
   "execution_count": 6,
   "metadata": {},
   "outputs": [],
   "source": [
    "video  = cv2.VideoCapture(0)\n",
    "padding = 20"
   ]
  },
  {
   "cell_type": "code",
   "execution_count": null,
   "metadata": {},
   "outputs": [],
   "source": []
  }
 ],
 "metadata": {
  "kernelspec": {
   "display_name": "Python 3",
   "language": "python",
   "name": "python3"
  },
  "language_info": {
   "codemirror_mode": {
    "name": "ipython",
    "version": 3
   },
   "file_extension": ".py",
   "mimetype": "text/x-python",
   "name": "python",
   "nbconvert_exporter": "python",
   "pygments_lexer": "ipython3",
   "version": "3.8.5"
  }
 },
 "nbformat": 4,
 "nbformat_minor": 4
}
